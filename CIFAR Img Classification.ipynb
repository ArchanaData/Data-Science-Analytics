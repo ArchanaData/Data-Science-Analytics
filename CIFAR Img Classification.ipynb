{
 "cells": [
  {
   "cell_type": "code",
   "execution_count": 69,
   "id": "6b968e69",
   "metadata": {},
   "outputs": [],
   "source": [
    "import tensorflow as tf\n",
    "from tensorflow.keras import datasets, layers, models\n",
    "import matplotlib.pyplot as plt\n",
    "import numpy as np"
   ]
  },
  {
   "cell_type": "code",
   "execution_count": 55,
   "id": "0d083317",
   "metadata": {},
   "outputs": [
    {
     "data": {
      "text/plain": [
       "(50000, 32, 32, 3)"
      ]
     },
     "execution_count": 55,
     "metadata": {},
     "output_type": "execute_result"
    }
   ],
   "source": [
    "(X_train, y_train), (X_test, y_test) =  datasets.cifar10.load_data()\n",
    "X_train.shape"
   ]
  },
  {
   "cell_type": "code",
   "execution_count": 56,
   "id": "9620793d",
   "metadata": {},
   "outputs": [
    {
     "data": {
      "text/plain": [
       "(10000, 32, 32, 3)"
      ]
     },
     "execution_count": 56,
     "metadata": {},
     "output_type": "execute_result"
    }
   ],
   "source": [
    "X_test.shape"
   ]
  },
  {
   "cell_type": "code",
   "execution_count": 57,
   "id": "d290ac15",
   "metadata": {},
   "outputs": [
    {
     "data": {
      "text/plain": [
       "array([[6],\n",
       "       [9],\n",
       "       [9],\n",
       "       [4],\n",
       "       [1]], dtype=uint8)"
      ]
     },
     "execution_count": 57,
     "metadata": {},
     "output_type": "execute_result"
    }
   ],
   "source": [
    "y_train[:5] #2D array"
   ]
  },
  {
   "cell_type": "code",
   "execution_count": 58,
   "id": "01a9c5eb",
   "metadata": {},
   "outputs": [
    {
     "data": {
      "text/plain": [
       "array([6, 9, 9, 4, 1], dtype=uint8)"
      ]
     },
     "execution_count": 58,
     "metadata": {},
     "output_type": "execute_result"
    }
   ],
   "source": [
    "y_train = y_train.reshape(-1,)\n",
    "y_train[:5] #1D array"
   ]
  },
  {
   "cell_type": "code",
   "execution_count": 59,
   "id": "235123ae",
   "metadata": {},
   "outputs": [],
   "source": [
    "classes = ['airplane', 'automobile', 'bird', 'cat', 'deer', 'dog', 'frog', 'horse', 'ship', 'truck']"
   ]
  },
  {
   "cell_type": "code",
   "execution_count": 60,
   "id": "f60b434c",
   "metadata": {},
   "outputs": [],
   "source": [
    "def plot_sample(X,y,index):\n",
    "    plt.figure(figsize = (15,2))\n",
    "    plt.imshow(X[index])\n",
    "    plt.xlabel(classes[y[index]])"
   ]
  },
  {
   "cell_type": "code",
   "execution_count": 61,
   "id": "6f54478e",
   "metadata": {},
   "outputs": [
    {
     "data": {
      "image/png": "[encoded data removed]",
      "text/plain": [
       "<Figure size 1080x144 with 1 Axes>"
      ]
     },
     "metadata": {
      "needs_background": "light"
     },
     "output_type": "display_data"
    }
   ],
   "source": [
    "plot_sample(X_train, y_train, 1111)"
   ]
  },
  {
   "cell_type": "code",
   "execution_count": 62,
   "id": "9d833fd4",
   "metadata": {},
   "outputs": [],
   "source": [
    "X_train = X_train/255\n",
    "X_test = X_test/255"
   ]
  },
  {
   "cell_type": "code",
   "execution_count": 63,
   "id": "f631bac9",
   "metadata": {},
   "outputs": [
    {
     "name": "stdout",
     "output_type": "stream",
     "text": [
      "Epoch 1/5\n",
      "1563/1563 [==============================] - 68s 43ms/step - loss: 1.8164 - accuracy: 0.3516\n",
      "Epoch 2/5\n",
      "1563/1563 [==============================] - 67s 43ms/step - loss: 1.6279 - accuracy: 0.4243\n",
      "Epoch 3/5\n",
      "1563/1563 [==============================] - 73s 47ms/step - loss: 1.5452 - accuracy: 0.4564\n",
      "Epoch 4/5\n",
      "1563/1563 [==============================] - 79s 51ms/step - loss: 1.4855 - accuracy: 0.4780\n",
      "Epoch 5/5\n",
      "1563/1563 [==============================] - 6044s 4s/step - loss: 1.4376 - accuracy: 0.4958\n"
     ]
    },
    {
     "data": {
      "text/plain": [
       "<keras.callbacks.History at 0x7fd9db67a610>"
      ]
     },
     "execution_count": 63,
     "metadata": {},
     "output_type": "execute_result"
    }
   ],
   "source": [
    "# Artificial Neural Network\n",
    "ann = models.Sequential([\n",
    "    layers.Flatten(input_shape = (32,32,3)),\n",
    "    layers.Dense(3000, activation = 'relu'),\n",
    "    layers.Dense(1000, activation = 'relu'),\n",
    "    layers.Dense(10, activation = 'sigmoid')    \n",
    "])\n",
    "\n",
    "ann.compile(optimizer = 'SGD', loss = 'sparse_categorical_crossentropy', metrics = ['accuracy'])\n",
    "\n",
    "ann.fit(X_train, y_train, epochs = 5)"
   ]
  },
  {
   "cell_type": "code",
   "execution_count": 64,
   "id": "46d533dc",
   "metadata": {},
   "outputs": [],
   "source": [
    "from sklearn.metrics import confusion_matrix, classification_report\n",
    "import numpy as np\n",
    "y_pred = ann.predict(X_test)\n",
    "y_pred_classes = [np.argmax(element) for element in y_pred]"
   ]
  },
  {
   "cell_type": "code",
   "execution_count": 65,
   "id": "cb74c736",
   "metadata": {},
   "outputs": [
    {
     "name": "stdout",
     "output_type": "stream",
     "text": [
      "Classification report: \n",
      "                precision    recall  f1-score   support\n",
      "\n",
      "           0       0.62      0.44      0.51      1000\n",
      "           1       0.41      0.80      0.54      1000\n",
      "           2       0.49      0.16      0.24      1000\n",
      "           3       0.32      0.45      0.38      1000\n",
      "           4       0.39      0.49      0.43      1000\n",
      "           5       0.51      0.18      0.26      1000\n",
      "           6       0.46      0.58      0.52      1000\n",
      "           7       0.63      0.44      0.52      1000\n",
      "           8       0.52      0.69      0.59      1000\n",
      "           9       0.51      0.37      0.43      1000\n",
      "\n",
      "    accuracy                           0.46     10000\n",
      "   macro avg       0.49      0.46      0.44     10000\n",
      "weighted avg       0.49      0.46      0.44     10000\n",
      "\n"
     ]
    }
   ],
   "source": [
    "print(\"Classification report: \\n \", classification_report(y_test, y_pred_classes))"
   ]
  },
  {
   "cell_type": "code",
   "execution_count": 66,
   "id": "83d88285",
   "metadata": {},
   "outputs": [],
   "source": [
    "# Convulation Neural Network\n",
    "cnn = models.Sequential([\n",
    "    #cnn\n",
    "    layers.Conv2D(filters = 32, kernel_size = (3,3), activation = 'relu', input_shape = (32,32,3)),\n",
    "    layers.MaxPooling2D((2,2)),\n",
    "    \n",
    "    layers.Conv2D(filters = 64, kernel_size = (3,3), activation = 'relu'),\n",
    "    layers.MaxPooling2D((2,2)),\n",
    "    \n",
    "    #dense\n",
    "    layers.Flatten(),\n",
    "    layers.Dense(64, activation = 'relu'),\n",
    "    layers.Dense(10, activation = 'softmax') #softmax is used to normalize probability    \n",
    "])"
   ]
  },
  {
   "cell_type": "code",
   "execution_count": 67,
   "id": "f8acce1a",
   "metadata": {},
   "outputs": [],
   "source": [
    "cnn.compile(optimizer = 'adam',\n",
    "           loss = 'sparse_categorical_crossentropy',\n",
    "           metrics = ['accuracy'])"
   ]
  },
  {
   "cell_type": "code",
   "execution_count": 68,
   "id": "1fba891f",
   "metadata": {},
   "outputs": [
    {
     "name": "stdout",
     "output_type": "stream",
     "text": [
      "Epoch 1/10\n",
      "1563/1563 [==============================] - 1117s 715ms/step - loss: 1.4802 - accuracy: 0.4679\n",
      "Epoch 2/10\n",
      "1563/1563 [==============================] - 43s 28ms/step - loss: 1.1073 - accuracy: 0.6135\n",
      "Epoch 3/10\n",
      "1563/1563 [==============================] - 40s 25ms/step - loss: 0.9804 - accuracy: 0.6590\n",
      "Epoch 4/10\n",
      "1563/1563 [==============================] - 44s 28ms/step - loss: 0.8986 - accuracy: 0.6878\n",
      "Epoch 5/10\n",
      "1563/1563 [==============================] - 49s 31ms/step - loss: 0.8360 - accuracy: 0.7102\n",
      "Epoch 6/10\n",
      "1563/1563 [==============================] - 50s 32ms/step - loss: 0.7798 - accuracy: 0.7302\n",
      "Epoch 7/10\n",
      "1563/1563 [==============================] - 51s 33ms/step - loss: 0.7276 - accuracy: 0.7469\n",
      "Epoch 8/10\n",
      "1563/1563 [==============================] - 47s 30ms/step - loss: 0.6851 - accuracy: 0.7612\n",
      "Epoch 9/10\n",
      "1563/1563 [==============================] - 59s 38ms/step - loss: 0.6413 - accuracy: 0.7745\n",
      "Epoch 10/10\n",
      "1563/1563 [==============================] - 56s 36ms/step - loss: 0.5958 - accuracy: 0.7909\n"
     ]
    },
    {
     "data": {
      "text/plain": [
       "<keras.callbacks.History at 0x7fd9db66d820>"
      ]
     },
     "execution_count": 68,
     "metadata": {},
     "output_type": "execute_result"
    }
   ],
   "source": [
    "cnn.fit(X_train, y_train, epochs = 10)"
   ]
  },
  {
   "cell_type": "code",
   "execution_count": 70,
   "id": "bc7f714d",
   "metadata": {},
   "outputs": [
    {
     "name": "stdout",
     "output_type": "stream",
     "text": [
      "313/313 [==============================] - 2s 4ms/step - loss: 0.9657 - accuracy: 0.6860\n"
     ]
    },
    {
     "data": {
      "text/plain": [
       "[0.9657173752784729, 0.6859999895095825]"
      ]
     },
     "execution_count": 70,
     "metadata": {},
     "output_type": "execute_result"
    }
   ],
   "source": [
    "cnn.evaluate(X_test, y_test)"
   ]
  },
  {
   "cell_type": "code",
   "execution_count": 71,
   "id": "671c57de",
   "metadata": {},
   "outputs": [
    {
     "data": {
      "text/plain": [
       "array([[[[0.61960784, 0.43921569, 0.19215686],\n",
       "         [0.62352941, 0.43529412, 0.18431373],\n",
       "         [0.64705882, 0.45490196, 0.2       ],\n",
       "         ...,\n",
       "         [0.5372549 , 0.37254902, 0.14117647],\n",
       "         [0.49411765, 0.35686275, 0.14117647],\n",
       "         [0.45490196, 0.33333333, 0.12941176]],\n",
       "\n",
       "        [[0.59607843, 0.43921569, 0.2       ],\n",
       "         [0.59215686, 0.43137255, 0.15686275],\n",
       "         [0.62352941, 0.44705882, 0.17647059],\n",
       "         ...,\n",
       "         [0.53333333, 0.37254902, 0.12156863],\n",
       "         [0.49019608, 0.35686275, 0.1254902 ],\n",
       "         [0.46666667, 0.34509804, 0.13333333]],\n",
       "\n",
       "        [[0.59215686, 0.43137255, 0.18431373],\n",
       "         [0.59215686, 0.42745098, 0.12941176],\n",
       "         [0.61960784, 0.43529412, 0.14117647],\n",
       "         ...,\n",
       "         [0.54509804, 0.38431373, 0.13333333],\n",
       "         [0.50980392, 0.37254902, 0.13333333],\n",
       "         [0.47058824, 0.34901961, 0.12941176]],\n",
       "\n",
       "        ...,\n",
       "\n",
       "        [[0.26666667, 0.48627451, 0.69411765],\n",
       "         [0.16470588, 0.39215686, 0.58039216],\n",
       "         [0.12156863, 0.34509804, 0.5372549 ],\n",
       "         ...,\n",
       "         [0.14901961, 0.38039216, 0.57254902],\n",
       "         [0.05098039, 0.25098039, 0.42352941],\n",
       "         [0.15686275, 0.33333333, 0.49803922]],\n",
       "\n",
       "        [[0.23921569, 0.45490196, 0.65882353],\n",
       "         [0.19215686, 0.4       , 0.58039216],\n",
       "         [0.1372549 , 0.33333333, 0.51764706],\n",
       "         ...,\n",
       "         [0.10196078, 0.32156863, 0.50980392],\n",
       "         [0.11372549, 0.32156863, 0.49411765],\n",
       "         [0.07843137, 0.25098039, 0.41960784]],\n",
       "\n",
       "        [[0.21176471, 0.41960784, 0.62745098],\n",
       "         [0.21960784, 0.41176471, 0.58431373],\n",
       "         [0.17647059, 0.34901961, 0.51764706],\n",
       "         ...,\n",
       "         [0.09411765, 0.30196078, 0.48627451],\n",
       "         [0.13333333, 0.32941176, 0.50588235],\n",
       "         [0.08235294, 0.2627451 , 0.43137255]]],\n",
       "\n",
       "\n",
       "       [[[0.92156863, 0.92156863, 0.92156863],\n",
       "         [0.90588235, 0.90588235, 0.90588235],\n",
       "         [0.90980392, 0.90980392, 0.90980392],\n",
       "         ...,\n",
       "         [0.91372549, 0.91372549, 0.91372549],\n",
       "         [0.91372549, 0.91372549, 0.91372549],\n",
       "         [0.90980392, 0.90980392, 0.90980392]],\n",
       "\n",
       "        [[0.93333333, 0.93333333, 0.93333333],\n",
       "         [0.92156863, 0.92156863, 0.92156863],\n",
       "         [0.92156863, 0.92156863, 0.92156863],\n",
       "         ...,\n",
       "         [0.9254902 , 0.9254902 , 0.9254902 ],\n",
       "         [0.9254902 , 0.9254902 , 0.9254902 ],\n",
       "         [0.92156863, 0.92156863, 0.92156863]],\n",
       "\n",
       "        [[0.92941176, 0.92941176, 0.92941176],\n",
       "         [0.91764706, 0.91764706, 0.91764706],\n",
       "         [0.91764706, 0.91764706, 0.91764706],\n",
       "         ...,\n",
       "         [0.92156863, 0.92156863, 0.92156863],\n",
       "         [0.92156863, 0.92156863, 0.92156863],\n",
       "         [0.91764706, 0.91764706, 0.91764706]],\n",
       "\n",
       "        ...,\n",
       "\n",
       "        [[0.34117647, 0.38823529, 0.34901961],\n",
       "         [0.16862745, 0.2       , 0.14509804],\n",
       "         [0.0745098 , 0.09019608, 0.04313725],\n",
       "         ...,\n",
       "         [0.6627451 , 0.72156863, 0.70196078],\n",
       "         [0.71372549, 0.77254902, 0.75686275],\n",
       "         [0.7372549 , 0.79215686, 0.78823529]],\n",
       "\n",
       "        [[0.32156863, 0.37647059, 0.32156863],\n",
       "         [0.18039216, 0.22352941, 0.14117647],\n",
       "         [0.14117647, 0.17254902, 0.08627451],\n",
       "         ...,\n",
       "         [0.68235294, 0.74117647, 0.71764706],\n",
       "         [0.7254902 , 0.78431373, 0.76862745],\n",
       "         [0.73333333, 0.79215686, 0.78431373]],\n",
       "\n",
       "        [[0.33333333, 0.39607843, 0.3254902 ],\n",
       "         [0.24313725, 0.29411765, 0.18823529],\n",
       "         [0.22745098, 0.2627451 , 0.14901961],\n",
       "         ...,\n",
       "         [0.65882353, 0.71764706, 0.69803922],\n",
       "         [0.70588235, 0.76470588, 0.74901961],\n",
       "         [0.72941176, 0.78431373, 0.78039216]]],\n",
       "\n",
       "\n",
       "       [[[0.61960784, 0.74509804, 0.87058824],\n",
       "         [0.61960784, 0.73333333, 0.85490196],\n",
       "         [0.54509804, 0.65098039, 0.76078431],\n",
       "         ...,\n",
       "         [0.89411765, 0.90588235, 0.91764706],\n",
       "         [0.92941176, 0.9372549 , 0.95294118],\n",
       "         [0.93333333, 0.94509804, 0.96470588]],\n",
       "\n",
       "        [[0.66666667, 0.78431373, 0.89803922],\n",
       "         [0.6745098 , 0.78039216, 0.88627451],\n",
       "         [0.59215686, 0.69019608, 0.78823529],\n",
       "         ...,\n",
       "         [0.90980392, 0.90980392, 0.9254902 ],\n",
       "         [0.96470588, 0.96470588, 0.98039216],\n",
       "         [0.96470588, 0.96862745, 0.98431373]],\n",
       "\n",
       "        [[0.68235294, 0.78823529, 0.88235294],\n",
       "         [0.69019608, 0.78431373, 0.87058824],\n",
       "         [0.61568627, 0.70196078, 0.78039216],\n",
       "         ...,\n",
       "         [0.90196078, 0.89803922, 0.90980392],\n",
       "         [0.98039216, 0.97647059, 0.98431373],\n",
       "         [0.96078431, 0.95686275, 0.96862745]],\n",
       "\n",
       "        ...,\n",
       "\n",
       "        [[0.12156863, 0.15686275, 0.17647059],\n",
       "         [0.11764706, 0.15294118, 0.17254902],\n",
       "         [0.10196078, 0.1372549 , 0.15686275],\n",
       "         ...,\n",
       "         [0.14509804, 0.15686275, 0.18039216],\n",
       "         [0.03529412, 0.05098039, 0.05490196],\n",
       "         [0.01568627, 0.02745098, 0.01960784]],\n",
       "\n",
       "        [[0.09019608, 0.13333333, 0.15294118],\n",
       "         [0.10588235, 0.14901961, 0.16862745],\n",
       "         [0.09803922, 0.14117647, 0.16078431],\n",
       "         ...,\n",
       "         [0.0745098 , 0.07843137, 0.09411765],\n",
       "         [0.01568627, 0.02352941, 0.01176471],\n",
       "         [0.01960784, 0.02745098, 0.01176471]],\n",
       "\n",
       "        [[0.10980392, 0.16078431, 0.18431373],\n",
       "         [0.11764706, 0.16862745, 0.19607843],\n",
       "         [0.1254902 , 0.17647059, 0.20392157],\n",
       "         ...,\n",
       "         [0.01960784, 0.02352941, 0.03137255],\n",
       "         [0.01568627, 0.01960784, 0.01176471],\n",
       "         [0.02745098, 0.03137255, 0.02745098]]],\n",
       "\n",
       "\n",
       "       [[[0.60784314, 0.61176471, 0.58431373],\n",
       "         [0.65490196, 0.69019608, 0.73333333],\n",
       "         [0.69019608, 0.70196078, 0.75686275],\n",
       "         ...,\n",
       "         [0.78823529, 0.76862745, 0.81960784],\n",
       "         [0.79215686, 0.79215686, 0.83137255],\n",
       "         [0.75294118, 0.71764706, 0.67058824]],\n",
       "\n",
       "        [[0.6       , 0.60784314, 0.61568627],\n",
       "         [0.63921569, 0.70196078, 0.8       ],\n",
       "         [0.67058824, 0.72156863, 0.84313725],\n",
       "         ...,\n",
       "         [0.79215686, 0.81568627, 0.87058824],\n",
       "         [0.79607843, 0.84313725, 0.89019608],\n",
       "         [0.74117647, 0.74509804, 0.71764706]],\n",
       "\n",
       "        [[0.60784314, 0.60392157, 0.6       ],\n",
       "         [0.62745098, 0.69803922, 0.78823529],\n",
       "         [0.65882353, 0.7254902 , 0.83529412],\n",
       "         ...,\n",
       "         [0.80784314, 0.81568627, 0.84313725],\n",
       "         [0.8       , 0.84313725, 0.87843137],\n",
       "         [0.74117647, 0.74901961, 0.72156863]],\n",
       "\n",
       "        ...,\n",
       "\n",
       "        [[0.34901961, 0.30980392, 0.24313725],\n",
       "         [0.22352941, 0.20784314, 0.20392157],\n",
       "         [0.23921569, 0.23921569, 0.23137255],\n",
       "         ...,\n",
       "         [0.34901961, 0.46666667, 0.39607843],\n",
       "         [0.23137255, 0.30980392, 0.24313725],\n",
       "         [0.2627451 , 0.29019608, 0.19607843]],\n",
       "\n",
       "        [[0.34901961, 0.32156863, 0.24313725],\n",
       "         [0.23529412, 0.22745098, 0.20784314],\n",
       "         [0.24705882, 0.25882353, 0.22745098],\n",
       "         ...,\n",
       "         [0.22352941, 0.25882353, 0.22745098],\n",
       "         [0.23921569, 0.25098039, 0.21176471],\n",
       "         [0.29411765, 0.27058824, 0.2       ]],\n",
       "\n",
       "        [[0.36078431, 0.30588235, 0.25098039],\n",
       "         [0.23529412, 0.20392157, 0.2       ],\n",
       "         [0.23921569, 0.22745098, 0.2       ],\n",
       "         ...,\n",
       "         [0.23529412, 0.24705882, 0.19607843],\n",
       "         [0.25098039, 0.25490196, 0.20392157],\n",
       "         [0.28627451, 0.26666667, 0.19607843]]],\n",
       "\n",
       "\n",
       "       [[[0.25490196, 0.26666667, 0.19607843],\n",
       "         [0.2745098 , 0.31764706, 0.25098039],\n",
       "         [0.18823529, 0.25098039, 0.18039216],\n",
       "         ...,\n",
       "         [0.2       , 0.2627451 , 0.16078431],\n",
       "         [0.21176471, 0.29803922, 0.20784314],\n",
       "         [0.2627451 , 0.34117647, 0.25882353]],\n",
       "\n",
       "        [[0.27058824, 0.31372549, 0.22745098],\n",
       "         [0.30980392, 0.4       , 0.31764706],\n",
       "         [0.23529412, 0.29019608, 0.22352941],\n",
       "         ...,\n",
       "         [0.21176471, 0.25882353, 0.17254902],\n",
       "         [0.25490196, 0.35294118, 0.27058824],\n",
       "         [0.23921569, 0.31764706, 0.25882353]],\n",
       "\n",
       "        [[0.28627451, 0.37254902, 0.28235294],\n",
       "         [0.32941176, 0.42745098, 0.34117647],\n",
       "         [0.28235294, 0.34509804, 0.2745098 ],\n",
       "         ...,\n",
       "         [0.30588235, 0.38431373, 0.29411765],\n",
       "         [0.28627451, 0.38431373, 0.30196078],\n",
       "         [0.18823529, 0.23137255, 0.2       ]],\n",
       "\n",
       "        ...,\n",
       "\n",
       "        [[0.37254902, 0.49803922, 0.36078431],\n",
       "         [0.35686275, 0.48235294, 0.3372549 ],\n",
       "         [0.22352941, 0.30980392, 0.17647059],\n",
       "         ...,\n",
       "         [0.56470588, 0.6745098 , 0.42352941],\n",
       "         [0.66666667, 0.78823529, 0.5254902 ],\n",
       "         [0.47843137, 0.56078431, 0.38431373]],\n",
       "\n",
       "        [[0.36862745, 0.49019608, 0.32156863],\n",
       "         [0.29411765, 0.40784314, 0.27843137],\n",
       "         [0.1254902 , 0.20392157, 0.09411765],\n",
       "         ...,\n",
       "         [0.56078431, 0.70980392, 0.45490196],\n",
       "         [0.60392157, 0.7372549 , 0.48235294],\n",
       "         [0.41568627, 0.50588235, 0.34901961]],\n",
       "\n",
       "        [[0.30588235, 0.4       , 0.25490196],\n",
       "         [0.1372549 , 0.2       , 0.10588235],\n",
       "         [0.09411765, 0.15686275, 0.06666667],\n",
       "         ...,\n",
       "         [0.56078431, 0.70196078, 0.53333333],\n",
       "         [0.60392157, 0.7254902 , 0.57254902],\n",
       "         [0.50196078, 0.61176471, 0.45882353]]]])"
      ]
     },
     "execution_count": 71,
     "metadata": {},
     "output_type": "execute_result"
    }
   ],
   "source": [
    "X_test[:5]"
   ]
  },
  {
   "cell_type": "code",
   "execution_count": null,
   "id": "a88ff072",
   "metadata": {},
   "outputs": [],
   "source": []
  }
 ],
 "metadata": {
  "kernelspec": {
   "display_name": "Python 3",
   "language": "python",
   "name": "python3"
  },
  "language_info": {
   "codemirror_mode": {
    "name": "ipython",
    "version": 3
   },
   "file_extension": ".py",
   "mimetype": "text/x-python",
   "name": "python",
   "nbconvert_exporter": "python",
   "pygments_lexer": "ipython3",
   "version": "3.8.8"
  }
 },
 "nbformat": 4,
 "nbformat_minor": 5
}
